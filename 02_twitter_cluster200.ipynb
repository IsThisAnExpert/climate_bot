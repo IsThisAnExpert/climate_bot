{
 "cells": [
  {
   "cell_type": "markdown",
   "metadata": {
    "scrolled": true
   },
   "source": [
    "### A notebook to build a network of climate change expert profiles \n",
    "\n",
    "#### Created for  @IsThisAnExpert, winner project of the Goethe's Institute [ClimateChange Hackaton](https://www.goethe.de/prj/one/en/gea/for/clc.html)\n",
    "\n",
    "This notebook uses the Twitter API to querz the list of [friends](https://developer.twitter.com/en/docs/twitter-api/v1/accounts-and-users/follow-search-get-users/api-reference/get-friends-ids) of f climate experts twitter profiles from a manually curated selection.\n",
    "\n",
    "The aim is to expand the list of experts based on the climate expert Twitter network.\n",
    "\n",
    "The output is a CSV file with a list of twitter handles shared among the experts\n",
    "the list needs to be manually reviewed and crossreferenced with other information such as origin of the twitter handles, user afiliations and so on.\n"
   ]
  },
  {
   "cell_type": "code",
   "execution_count": null,
   "metadata": {
    "scrolled": true
   },
   "outputs": [],
   "source": [
    "#!/usr/bin/env python3.7\n",
    "import tweepy\n",
    "import sys\n",
    "import os, json\n",
    "import pandas as pd\n",
    "import subprocess\n",
    "from collections import Counter\n",
    "import time\n",
    "import matplotlib.pyplot as plt\n",
    "import numpy as np\n",
    " from dotenv import load_dotenv\n",
    "# load environment variables\n",
    "load_dotenv()\n",
    "\n",
    "# Setup API:\n",
    "def twitter_setup():\n",
    "    # Authenticate and access using keys:\n",
    "    auth = tweepy.OAuthHandler(os.getenv('CONSUMER_KEY'), os.getenv('CONSUMER_SECRET'))\n",
    "    auth.set_access_token(os.getenv('ACCESS_TOKEN'), os.getenv('ACCESS_SECRET'))\n",
    "    auth.secure = True\n",
    "    # Return API access:\n",
    "    # use wait_on_rate_limit to avoid getting banned\n",
    "    api = tweepy.API(auth, wait_on_rate_limit=True,wait_on_rate_limit_notify=True)\n",
    "    return api\n",
    "\n",
    "\n",
    "\n",
    "def get_user_network(user_id):\n",
    "\n",
    "    print(\"Searching network for user with id \" + str(user_id))\n",
    "\n",
    "    friends = []\n",
    "    max_friends = 100000\n",
    "        \n",
    "    try:\n",
    "\n",
    "        for page in tweepy.Cursor(api.friends_ids, screen_name=user_id).pages():\n",
    "            friends.extend(page)\n",
    "            if len(friends) >= max_friends:\n",
    "                break\n",
    "            print(\"Friends so far : \" + str(len(friends)))\n",
    "        print(\"finished friends\")\n",
    "    except tweepy.TweepError as tweep_error:\n",
    "        print(\"Error with code : \" + str(tweep_error.response.text))\n",
    "        return 0\n",
    "    print(\"User with ID: \" + user_id + \" has \" + str(len(friends)) + \" friends\")\n",
    "\n",
    "    custom_object = {\n",
    "        user_id: friends\n",
    "    }\n",
    "    return custom_object\n",
    "\n",
    "# set api entry point\n",
    "api = twitter_setup()\n",
    "\n",
    "# open csv file with the twitter handles\n",
    "twitter_handles = pd.read_csv('/home/franasa/Downloads/TwitterHandles.csv')\n",
    "handles_list=twitter_handles.TwitterHandle.tolist()\n",
    "#create a dictionary to store user:user's friends\n",
    "user_dict={}\n",
    "\n",
    "######### uncomment these lines to save the query results as a json file ############\n",
    "    \n",
    "# with open('user_friends.json', 'r') as fil:\n",
    "#     friends_json = json.load(fil)\n",
    "    \n",
    "\n",
    "# for user_name in handles_list:    \n",
    "#     if not user_name in friends_json:\n",
    "#         friends_json[user_name]=get_user_network(user_name)\n",
    "#         with open('user_friends.json', 'w') as fil:\n",
    "#             json.dump(friends_json, fil)\n"
   ]
  },
  {
   "cell_type": "code",
   "execution_count": null,
   "metadata": {},
   "outputs": [],
   "source": [
    "## open the json file \n",
    "with open('user_friends.json', 'r') as fil:\n",
    "    friends_json = json.load(fil)\n",
    "    \n",
    "## fix dictionary to put everything atthe same level and ignore missing handles\n",
    "fix_dict={}\n",
    "for user_name in friends_json:\n",
    "    if type(friends_json[user_name])==list:\n",
    "        fix_dict[user_name]={'friends_list': friends_json[user_name]}\n",
    "\n",
    "    elif type(friends_json[user_name])==dict:\n",
    "\n",
    "        fix_dict[user_name]={'friends_list': friends_json[user_name][user_name]}\n",
    "    else:\n",
    "        print(user_name, friends_json[user_name])\n",
    "\n",
    "# ad to the dictionary the numeric user identifiers\n",
    "for x in fix_dict:\n",
    "    # fetching the user \n",
    "    user = api.get_user(x) \n",
    "    fix_dict[x]['id']= user.id \n"
   ]
  },
  {
   "cell_type": "code",
   "execution_count": 34,
   "metadata": {},
   "outputs": [
    {
     "name": "stdout",
     "output_type": "stream",
     "text": [
      "@dr_nerilie 0\n"
     ]
    }
   ],
   "source": []
  },
  {
   "cell_type": "code",
   "execution_count": 53,
   "metadata": {},
   "outputs": [
    {
     "name": "stdout",
     "output_type": "stream",
     "text": [
      "269\n"
     ]
    }
   ],
   "source": [
    "user_ids=[fix_dict[x]['id'] for x in fix_dict]\n",
    "friends_list = [fix_dict[x]['friends_list'] for x in fix_dict if fix_dict[x]['friends_list']]\n",
    "counter = Counter(friends_list[0])\n",
    "for i in friends_list[1:]: \n",
    "    counter.update(i)\n",
    "\n",
    "shared_friends=[x for x in counter.most_common() if x[1] >20]\n",
    "\n",
    "print(len(shared_friends))\n",
    "\n",
    "\n",
    "dicto_df={}\n",
    "count=0\n",
    "for friend in shared_friends:\n",
    "    user = api.get_user(friend[0]) \n",
    "    count+=1\n",
    "    \n",
    "    if friend[0] in user_ids:\n",
    "        indb=True\n",
    "    else: indb=False\n",
    "#     fix_dict[x]['id']= user.screen_name \n",
    "    dicto_df[count]={\n",
    "        'friend_screen_name': user.screen_name ,\n",
    "        'friend_id': friend[0],\n",
    "        'appereance_count': friend[1],\n",
    "        'in_database': indb ## is this an expert from the manually curated database\n",
    "    }"
   ]
  },
  {
   "cell_type": "code",
   "execution_count": 56,
   "metadata": {},
   "outputs": [
    {
     "data": {
      "text/html": [
       "<div>\n",
       "<style scoped>\n",
       "    .dataframe tbody tr th:only-of-type {\n",
       "        vertical-align: middle;\n",
       "    }\n",
       "\n",
       "    .dataframe tbody tr th {\n",
       "        vertical-align: top;\n",
       "    }\n",
       "\n",
       "    .dataframe thead th {\n",
       "        text-align: right;\n",
       "    }\n",
       "</style>\n",
       "<table border=\"1\" class=\"dataframe\">\n",
       "  <thead>\n",
       "    <tr style=\"text-align: right;\">\n",
       "      <th></th>\n",
       "      <th>friend_screen_name</th>\n",
       "      <th>friend_id</th>\n",
       "      <th>appereance_count</th>\n",
       "      <th>in_database</th>\n",
       "    </tr>\n",
       "  </thead>\n",
       "  <tbody>\n",
       "    <tr>\n",
       "      <th>1</th>\n",
       "      <td>IPCC_CH</td>\n",
       "      <td>192942213</td>\n",
       "      <td>64</td>\n",
       "      <td>True</td>\n",
       "    </tr>\n",
       "    <tr>\n",
       "      <th>2</th>\n",
       "      <td>UNFCCC</td>\n",
       "      <td>17463923</td>\n",
       "      <td>61</td>\n",
       "      <td>True</td>\n",
       "    </tr>\n",
       "    <tr>\n",
       "      <th>3</th>\n",
       "      <td>GretaThunberg</td>\n",
       "      <td>1006419421244678144</td>\n",
       "      <td>59</td>\n",
       "      <td>False</td>\n",
       "    </tr>\n",
       "    <tr>\n",
       "      <th>4</th>\n",
       "      <td>guardianeco</td>\n",
       "      <td>20582958</td>\n",
       "      <td>59</td>\n",
       "      <td>False</td>\n",
       "    </tr>\n",
       "    <tr>\n",
       "      <th>5</th>\n",
       "      <td>KHayhoe</td>\n",
       "      <td>34317032</td>\n",
       "      <td>57</td>\n",
       "      <td>True</td>\n",
       "    </tr>\n",
       "    <tr>\n",
       "      <th>...</th>\n",
       "      <td>...</td>\n",
       "      <td>...</td>\n",
       "      <td>...</td>\n",
       "      <td>...</td>\n",
       "    </tr>\n",
       "    <tr>\n",
       "      <th>265</th>\n",
       "      <td>BAS_News</td>\n",
       "      <td>229045433</td>\n",
       "      <td>21</td>\n",
       "      <td>True</td>\n",
       "    </tr>\n",
       "    <tr>\n",
       "      <th>266</th>\n",
       "      <td>PEspinosaC</td>\n",
       "      <td>214842351</td>\n",
       "      <td>21</td>\n",
       "      <td>True</td>\n",
       "    </tr>\n",
       "    <tr>\n",
       "      <th>267</th>\n",
       "      <td>guardiannews</td>\n",
       "      <td>788524</td>\n",
       "      <td>21</td>\n",
       "      <td>False</td>\n",
       "    </tr>\n",
       "    <tr>\n",
       "      <th>268</th>\n",
       "      <td>smithsonian</td>\n",
       "      <td>14199378</td>\n",
       "      <td>21</td>\n",
       "      <td>False</td>\n",
       "    </tr>\n",
       "    <tr>\n",
       "      <th>269</th>\n",
       "      <td>kuminaidoo</td>\n",
       "      <td>19904685</td>\n",
       "      <td>21</td>\n",
       "      <td>False</td>\n",
       "    </tr>\n",
       "  </tbody>\n",
       "</table>\n",
       "<p>269 rows × 4 columns</p>\n",
       "</div>"
      ],
      "text/plain": [
       "    friend_screen_name            friend_id  appereance_count  in_database\n",
       "1              IPCC_CH            192942213                64         True\n",
       "2               UNFCCC             17463923                61         True\n",
       "3        GretaThunberg  1006419421244678144                59        False\n",
       "4          guardianeco             20582958                59        False\n",
       "5              KHayhoe             34317032                57         True\n",
       "..                 ...                  ...               ...          ...\n",
       "265           BAS_News            229045433                21         True\n",
       "266         PEspinosaC            214842351                21         True\n",
       "267       guardiannews               788524                21        False\n",
       "268        smithsonian             14199378                21        False\n",
       "269         kuminaidoo             19904685                21        False\n",
       "\n",
       "[269 rows x 4 columns]"
      ]
     },
     "execution_count": 56,
     "metadata": {},
     "output_type": "execute_result"
    }
   ],
   "source": [
    "## save the networking dataframe to a CSV file\n",
    "shared_climate_friends=pd.DataFrame.from_dict(dicto_df, orient='index')\n",
    "shared_climate_friends.to_csv(\"shared_climate_friends.csv\", index=False)\n",
    "\n",
    "shared_climate_friends"
   ]
  },
  {
   "cell_type": "code",
   "execution_count": 63,
   "metadata": {},
   "outputs": [
    {
     "data": {
      "text/plain": [
       "Text(0, 0.5, 'Expert profile')"
      ]
     },
     "execution_count": 63,
     "metadata": {},
     "output_type": "execute_result"
    },
    {
     "data": {
      "image/png": "[encoded data removed]",
      "text/plain": [
       "<Figure size 432x288 with 1 Axes>"
      ]
     },
     "metadata": {
      "needs_background": "light"
     },
     "output_type": "display_data"
    }
   ],
   "source": [
    "  \n",
    "# Create a dataframe\n",
    "df =shared_climate_friends[shared_climate_friends['in_database']==True].head(15)\n",
    "# Reorder it following the values:\n",
    "ordered_df = df.sort_values(by='appereance_count')\n",
    "my_range=range(1,len(df.index)+1)\n",
    " \n",
    "# The vertival plot is made using the hline function\n",
    "# I load the seaborn library only to benefit the nice looking feature\n",
    "import seaborn as sns\n",
    "plt.hlines(y=my_range, xmin=0, xmax=ordered_df['appereance_count'], color='skyblue')\n",
    "plt.plot(ordered_df['appereance_count'], my_range, \"o\")\n",
    " \n",
    "# Add titles and axis names\n",
    "plt.yticks(my_range, ordered_df['friend_screen_name'])\n",
    "plt.title(\"Most popular experts among experts\", loc='left')\n",
    "plt.xlabel('number of experts following expert profile')\n",
    "plt.ylabel('Expert profile')\n"
   ]
  },
  {
   "cell_type": "code",
   "execution_count": 66,
   "metadata": {},
   "outputs": [
    {
     "data": {
      "text/plain": [
       "Text(0, 0.5, 'Twitter Profile')"
      ]
     },
     "execution_count": 66,
     "metadata": {},
     "output_type": "execute_result"
    },
    {
     "data": {
      "image/png": "[encoded data removed]",
      "text/plain": [
       "<Figure size 432x288 with 1 Axes>"
      ]
     },
     "metadata": {
      "needs_background": "light"
     },
     "output_type": "display_data"
    }
   ],
   "source": [
    "# Create a dataframe\n",
    "df =shared_climate_friends[shared_climate_friends['in_database']==False].head(15)\n",
    "# Reorder it following the values:\n",
    "ordered_df = df.sort_values(by='appereance_count')\n",
    "my_range=range(1,len(df.index)+1)\n",
    " \n",
    "# The vertival plot is made using the hline function\n",
    "# I load the seaborn library only to benefit the nice looking feature\n",
    "import seaborn as sns\n",
    "plt.hlines(y=my_range, xmin=0, xmax=ordered_df['appereance_count'], color='skyblue')\n",
    "plt.plot(ordered_df['appereance_count'], my_range, \"o\")\n",
    " \n",
    "# Add titles and axis names\n",
    "plt.yticks(my_range, ordered_df['friend_screen_name'])\n",
    "plt.title(\"Most popular profiles among experts\", loc='left')\n",
    "plt.xlabel('Number of experts following the Twitter profile')\n",
    "plt.ylabel('Twitter Profile')\n"
   ]
  }
 ],
 "metadata": {
  "kernelspec": {
   "display_name": "Python 3",
   "language": "python",
   "name": "python3"
  },
  "language_info": {
   "codemirror_mode": {
    "name": "ipython",
    "version": 3
   },
   "file_extension": ".py",
   "mimetype": "text/x-python",
   "name": "python",
   "nbconvert_exporter": "python",
   "pygments_lexer": "ipython3",
   "version": "3.8.6"
  }
 },
 "nbformat": 4,
 "nbformat_minor": 4
}
